{
 "cells": [
  {
   "cell_type": "markdown",
   "metadata": {},
   "source": [
    "# Evidence of Discrimination?\n",
    "\n",
    "The Department of Developmental Services (DDS) in California is responsible for allocating funds to support over 250,000 developmentally-disabled residents. The data set `ca_dds_expenditures.csv` contains data about 1,000 of these residents. The data comes from a discrimination lawsuit which alleged that California's Department of Developmental Services (DDS) privileged white (non-Hispanic) residents over Hispanic residents in allocating funds. We will focus on comparing the allocation of funds (i.e., expenditures) for these two ethnicities only, although there are other ethnicities in this data set.\n",
    "\n",
    "There are 6 variables in this data set:\n",
    "\n",
    "- Id:  5-digit, unique identification code for each consumer (similar to a social security number and used for identification purposes)  \n",
    "- Age Cohort:  Binned age variable represented as six age cohorts (0-5, 6-12, 13-17, 18-21, 22-50, and 51+)\n",
    "- Age:  Unbinned age variable\n",
    "- Gender:  Male or Female\n",
    "- Expenditures:  Dollar amount of annual expenditures spent on each consumer\n",
    "- Ethnicity:  Eight ethnic groups (American Indian, Asian, Black, Hispanic, Multi-race, Native Hawaiian, Other, and White non-Hispanic)"
   ]
  },
  {
   "cell_type": "code",
   "execution_count": 1,
   "metadata": {},
   "outputs": [],
   "source": [
    "import pandas as pd\n",
    "import numpy as np\n",
    "from matplotlib import pyplot as plt\n",
    "\n",
    "# Allow for multiple outputs in a cell\n",
    "from IPython.core.interactiveshell import InteractiveShell\n",
    "InteractiveShell.ast_node_interactivity = \"all\""
   ]
  },
  {
   "cell_type": "markdown",
   "metadata": {},
   "source": [
    "# Question 1\n",
    "\n",
    "Read in the data set. Make a graphic that compares the _average_ expenditures by the DDS on Hispanic residents and white (non-Hispanic) residents. Comment on what you see."
   ]
  },
  {
   "cell_type": "code",
   "execution_count": 2,
   "metadata": {},
   "outputs": [
    {
     "data": {
      "text/html": [
       "<div>\n",
       "<style scoped>\n",
       "    .dataframe tbody tr th:only-of-type {\n",
       "        vertical-align: middle;\n",
       "    }\n",
       "\n",
       "    .dataframe tbody tr th {\n",
       "        vertical-align: top;\n",
       "    }\n",
       "\n",
       "    .dataframe thead th {\n",
       "        text-align: right;\n",
       "    }\n",
       "</style>\n",
       "<table border=\"1\" class=\"dataframe\">\n",
       "  <thead>\n",
       "    <tr style=\"text-align: right;\">\n",
       "      <th></th>\n",
       "      <th>Expenditures</th>\n",
       "    </tr>\n",
       "    <tr>\n",
       "      <th>Ethnicity</th>\n",
       "      <th></th>\n",
       "    </tr>\n",
       "  </thead>\n",
       "  <tbody>\n",
       "    <tr>\n",
       "      <th>American Indian</th>\n",
       "      <td>36438.250000</td>\n",
       "    </tr>\n",
       "    <tr>\n",
       "      <th>Asian</th>\n",
       "      <td>18392.372093</td>\n",
       "    </tr>\n",
       "    <tr>\n",
       "      <th>Black</th>\n",
       "      <td>20884.593220</td>\n",
       "    </tr>\n",
       "    <tr>\n",
       "      <th>Hispanic</th>\n",
       "      <td>11065.569149</td>\n",
       "    </tr>\n",
       "    <tr>\n",
       "      <th>Multi Race</th>\n",
       "      <td>4456.730769</td>\n",
       "    </tr>\n",
       "    <tr>\n",
       "      <th>Native Hawaiian</th>\n",
       "      <td>42782.333333</td>\n",
       "    </tr>\n",
       "    <tr>\n",
       "      <th>Other</th>\n",
       "      <td>3316.500000</td>\n",
       "    </tr>\n",
       "    <tr>\n",
       "      <th>White not Hispanic</th>\n",
       "      <td>24697.548628</td>\n",
       "    </tr>\n",
       "  </tbody>\n",
       "</table>\n",
       "</div>"
      ],
      "text/plain": [
       "                    Expenditures\n",
       "Ethnicity                       \n",
       "American Indian     36438.250000\n",
       "Asian               18392.372093\n",
       "Black               20884.593220\n",
       "Hispanic            11065.569149\n",
       "Multi Race           4456.730769\n",
       "Native Hawaiian     42782.333333\n",
       "Other                3316.500000\n",
       "White not Hispanic  24697.548628"
      ]
     },
     "execution_count": 2,
     "metadata": {},
     "output_type": "execute_result"
    },
    {
     "data": {
      "text/plain": [
       "<AxesSubplot:xlabel='Ethnicity'>"
      ]
     },
     "execution_count": 2,
     "metadata": {},
     "output_type": "execute_result"
    },
    {
     "data": {
      "image/png": "[encoded data removed]",
      "text/plain": [
       "<Figure size 432x288 with 1 Axes>"
      ]
     },
     "metadata": {
      "needs_background": "light"
     },
     "output_type": "display_data"
    }
   ],
   "source": [
    "df = pd.read_csv('ca_dds_expenditures.csv')\n",
    "\n",
    "df_temp = df.pivot_table(index=['Ethnicity'], values=['Expenditures'], aggfunc=np.mean)\n",
    "df_temp \n",
    "df_temp.loc[['Hispanic','White not Hispanic']].fillna(1).plot.bar()"
   ]
  },
  {
   "cell_type": "markdown",
   "metadata": {},
   "source": [
    "**YOUR EXPLANATION HERE**\n",
    "\n",
    "I see that the average expenditures of White (non-Hispanic) residents is more than double that of Hispanic residents."
   ]
  },
  {
   "cell_type": "markdown",
   "metadata": {},
   "source": [
    "# Question 2\n",
    "\n",
    "Now, calculate the average expenditures by ethnicity and age cohort. Make a graphic that compares the average expenditure on Hispanic residents and white (non-Hispanic) residents, _within each age cohort_. \n",
    "\n",
    "Comment on what you see. How do these results appear to contradict the results you obtained in Question 1?"
   ]
  },
  {
   "cell_type": "code",
   "execution_count": 3,
   "metadata": {},
   "outputs": [
    {
     "data": {
      "text/plain": [
       "<AxesSubplot:xlabel='Ethnicity,Age Cohort'>"
      ]
     },
     "execution_count": 3,
     "metadata": {},
     "output_type": "execute_result"
    },
    {
     "data": {
      "image/png": "[encoded data removed]",
      "text/plain": [
       "<Figure size 432x288 with 1 Axes>"
      ]
     },
     "metadata": {
      "needs_background": "light"
     },
     "output_type": "display_data"
    }
   ],
   "source": [
    "df_temp = df.pivot_table(index=['Ethnicity', 'Age Cohort'], values=['Expenditures'], aggfunc=np.mean)\n",
    "# df_temp \n",
    "df_temp.loc[['Hispanic','White not Hispanic']].fillna(1).plot.bar()"
   ]
  },
  {
   "cell_type": "markdown",
   "metadata": {},
   "source": [
    "**YOUR EXPLANATION HERE**\n",
    "\n",
    "I see that the average expenditures in each age cohort of Hispanic residents is about the same if not more than their White (non-hispanic) counterparts. This contradicts the results obtained in Question 1 where we observed that the overall average expenditures of White (non-hispanic) residents was more than double that of Hispanic residents."
   ]
  },
  {
   "cell_type": "markdown",
   "metadata": {},
   "source": [
    "# Question 3\n",
    "\n",
    "Can you explain the discrepancy between the two analyses you conducted above (i.e., Questions 1 and 2)? Try to tell a complete story that interweaves tables, graphics, and explanation.\n",
    "\n",
    "_Hint:_ You might want to consider looking at:\n",
    "\n",
    "- the distributions of ages of Hispanics and whites\n",
    "- the average expenditure as a function of age"
   ]
  },
  {
   "cell_type": "code",
   "execution_count": 4,
   "metadata": {},
   "outputs": [
    {
     "data": {
      "text/plain": [
       "Ethnicity\n",
       "Hispanic    AxesSubplot(0.125,0.125;0.352273x0.755)\n",
       "Name: Age, dtype: object"
      ]
     },
     "execution_count": 4,
     "metadata": {},
     "output_type": "execute_result"
    },
    {
     "data": {
      "text/plain": [
       "Ethnicity\n",
       "White not Hispanic    AxesSubplot(0.547727,0.125;0.352273x0.755)\n",
       "Name: Age, dtype: object"
      ]
     },
     "execution_count": 4,
     "metadata": {},
     "output_type": "execute_result"
    },
    {
     "data": {
      "image/png": "[encoded data removed]",
      "text/plain": [
       "<Figure size 720x288 with 2 Axes>"
      ]
     },
     "metadata": {
      "needs_background": "light"
     },
     "output_type": "display_data"
    }
   ],
   "source": [
    "# Distribution of ages of Hispanics and Whites\n",
    "# Selects rows where only where Ethnicity is equal to 'Hispanic' or 'White not Hispanic' and plots\n",
    "fig, axes = plt.subplots(1, 2)\n",
    "df.loc[df['Ethnicity'].isin(['Hispanic'])].groupby('Ethnicity')['Age'].hist(ax=axes[0],legend=True)\n",
    "df.loc[df['Ethnicity'].isin(['White not Hispanic'])].groupby('Ethnicity')['Age'].hist(ax=axes[1], figsize=[10,4], legend=True)\n",
    "\n",
    "# df.loc[df['Ethnicity'].isin(['Hispanic','White not Hispanic'])].groupby('Ethnicity')['Age'].hist(legend=True)"
   ]
  },
  {
   "cell_type": "code",
   "execution_count": 5,
   "metadata": {},
   "outputs": [
    {
     "data": {
      "text/plain": [
       "<AxesSubplot:xlabel='Age'>"
      ]
     },
     "execution_count": 5,
     "metadata": {},
     "output_type": "execute_result"
    },
    {
     "data": {
      "image/png": "[encoded data removed]",
      "text/plain": [
       "<Figure size 432x288 with 1 Axes>"
      ]
     },
     "metadata": {
      "needs_background": "light"
     },
     "output_type": "display_data"
    }
   ],
   "source": [
    "# Average expenditures as a function of age\n",
    "\n",
    "# df_temp = df.pivot_table(index=['Ethnicity', 'Age'], values=['Expenditures'], aggfunc=np.mean)\n",
    "# df_temp.loc[['Hispanic']]\n",
    "# df_temp.loc[['Hispanic']].fillna(1).plot(xlabel='Age')\n",
    "# df_temp.loc[['White not Hispanic']].fillna(1).plot(xlabel='Age', title='Avg Expenditures per Age of White not hispanic')\n",
    "\n",
    "df_hisp = pd.pivot_table(df[df['Ethnicity'] == 'Hispanic'], index=['Age'], values=['Expenditures'], aggfunc=np.mean)\n",
    "ax = df_hisp.plot()\n",
    "\n",
    "df_white = pd.pivot_table(df[df['Ethnicity'] == 'White not Hispanic'], index=['Age'], values=['Expenditures'], aggfunc=np.mean)\n",
    "df_white.plot(ax=ax, legend=True)"
   ]
  },
  {
   "cell_type": "code",
   "execution_count": 6,
   "metadata": {},
   "outputs": [
    {
     "data": {
      "text/plain": [
       "Hispanic              376\n",
       "White not Hispanic    401\n",
       "Name: Ethnicity, dtype: int64"
      ]
     },
     "execution_count": 6,
     "metadata": {},
     "output_type": "execute_result"
    }
   ],
   "source": [
    "# Number of data points per ethnicity\n",
    "df['Ethnicity'].value_counts().loc[['Hispanic', 'White not Hispanic']]"
   ]
  },
  {
   "cell_type": "markdown",
   "metadata": {},
   "source": [
    "**YOUR EXPLANATION HERE (although you may want to add more markdown cells)**\n",
    "\n",
    "When viewing the age distributions of Hispanic and White residents, we see that there is a greater distribution of older (30+) White residents. Combine this with the graph of average expenditures as a function of age which shows that older residents of both groups require higher expenditures, we can that the reason the average expenditures for White residents is higher is because they have more older people."
   ]
  },
  {
   "cell_type": "raw",
   "metadata": {},
   "source": [
    "## Submission Instructions\n",
    "\n",
    "Once you are finished, follow these steps:\n",
    "\n",
    "1. Restart the kernel and re-run this notebook from beginning to end by going to `Kernel > Restart Kernel and Run All Cells`.\n",
    "\n",
    "2. If this process stops halfway through, that means there was an error. Correct the error and repeat Step 1 until the notebook runs from beginning to end.\n",
    "\n",
    "3. Double check that there is a number next to each code cell and that these numbers are in order.\n",
    "\n",
    "Then, submit your lab as follows:\n",
    "\n",
    "1. Go to `File > Export Notebook As > PDF`.\n",
    "\n",
    "2. Double check that the entire notebook, from beginning to end, is in this PDF file. (If the notebook is cut off, try first exporting the notebook to HTML and printing to PDF.)\n",
    "\n",
    "3. Upload the PDF to Gradescope.\n",
    "4. Demo your lab."
   ]
  },
  {
   "cell_type": "code",
   "execution_count": null,
   "metadata": {},
   "outputs": [],
   "source": []
  }
 ],
 "metadata": {
  "kernelspec": {
   "display_name": "Python 3 (ipykernel)",
   "language": "python",
   "name": "python3"
  },
  "language_info": {
   "codemirror_mode": {
    "name": "ipython",
    "version": 3
   },
   "file_extension": ".py",
   "mimetype": "text/x-python",
   "name": "python",
   "nbconvert_exporter": "python",
   "pygments_lexer": "ipython3",
   "version": "3.9.7"
  }
 },
 "nbformat": 4,
 "nbformat_minor": 4
}
