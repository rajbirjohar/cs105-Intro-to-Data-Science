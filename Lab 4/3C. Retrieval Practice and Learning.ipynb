{
 "cells": [
  {
   "cell_type": "markdown",
   "metadata": {
    "colab_type": "text",
    "id": "1aPshrzKvAlN"
   },
   "source": [
    "# Retrieval Practice and Learning\n",
    "\n",
    "What is the most effective way to learn a subject? Many students focus exclusively on the _encoding_ process---that is, how to get the knowledge into memory in the first place. For example, taking notes is an activity for encoding knowledge.\n",
    "\n",
    "_Retrieval_, on the other hand, is the process of reconstructing that knowledge from memory. [Karpicke and Blunt](http://science.sciencemag.org/content/331/6018/772) (2011) demonstrated that _retrieval_ is more effective for learning than activites designed to promote effective encoding. They conducted an experiment in which subjects had to learn about sea otters by reading a passage. Subjects were randomly assigned to one of two conditions: some were instructed to create a [concept map](https://en.wikipedia.org/wiki/Concept_map) as they read the passage, while others were instructed to practice retrieval (i.e., read the passage, recall as much as they could, read the text again, and recall again). The two main measurements they recorded were:\n",
    "\n",
    "1. each subject's score on a follow-up learning test one week later\n",
    "2. each subject's _prediction_ of how well they would do on that test\n",
    "\n",
    "In this lab, you will analyze data from a _replication_ of Karpicke and Blunt's experiment, conducted by Buttrick _et al_.\n",
    "- The data file is : data.csv.\n",
    "- The codebook (explaining what the variables mean) is : codebook.csv."
   ]
  },
  {
   "cell_type": "code",
   "execution_count": 1,
   "metadata": {
    "colab": {},
    "colab_type": "code",
    "id": "aA3QAljEvAlO"
   },
   "outputs": [
    {
     "data": {
      "text/html": [
       "<div>\n",
       "<style scoped>\n",
       "    .dataframe tbody tr th:only-of-type {\n",
       "        vertical-align: middle;\n",
       "    }\n",
       "\n",
       "    .dataframe tbody tr th {\n",
       "        vertical-align: top;\n",
       "    }\n",
       "\n",
       "    .dataframe thead th {\n",
       "        text-align: right;\n",
       "    }\n",
       "</style>\n",
       "<table border=\"1\" class=\"dataframe\">\n",
       "  <thead>\n",
       "    <tr style=\"text-align: right;\">\n",
       "      <th></th>\n",
       "      <th>ID</th>\n",
       "      <th>Age</th>\n",
       "      <th>Gender</th>\n",
       "      <th>Date.P1</th>\n",
       "      <th>Date.P2</th>\n",
       "      <th>Condition</th>\n",
       "      <th>IC.1</th>\n",
       "      <th>IC.2</th>\n",
       "      <th>Comp.1</th>\n",
       "      <th>Comp.2</th>\n",
       "      <th>...</th>\n",
       "      <th>Scorer.2.2</th>\n",
       "      <th>R2CS.avg</th>\n",
       "      <th>TS.1</th>\n",
       "      <th>Scorer.1.3</th>\n",
       "      <th>TS.2</th>\n",
       "      <th>Scorer.2.3</th>\n",
       "      <th>TS.avg</th>\n",
       "      <th>Exc.1</th>\n",
       "      <th>Exc.2</th>\n",
       "      <th>Collection</th>\n",
       "    </tr>\n",
       "  </thead>\n",
       "  <tbody>\n",
       "    <tr>\n",
       "      <th>0</th>\n",
       "      <td>KB1</td>\n",
       "      <td>18</td>\n",
       "      <td>Female</td>\n",
       "      <td>11/21/16</td>\n",
       "      <td>11/28/16</td>\n",
       "      <td>Concept</td>\n",
       "      <td>1</td>\n",
       "      <td>1</td>\n",
       "      <td>1</td>\n",
       "      <td>1</td>\n",
       "      <td>...</td>\n",
       "      <td>NaN</td>\n",
       "      <td>NaN</td>\n",
       "      <td>0.36</td>\n",
       "      <td>NK</td>\n",
       "      <td>0.42</td>\n",
       "      <td>MS</td>\n",
       "      <td>0.39</td>\n",
       "      <td>0</td>\n",
       "      <td>0</td>\n",
       "      <td>1</td>\n",
       "    </tr>\n",
       "    <tr>\n",
       "      <th>1</th>\n",
       "      <td>KB2</td>\n",
       "      <td>18</td>\n",
       "      <td>Male</td>\n",
       "      <td>11/21/16</td>\n",
       "      <td>11/28/16</td>\n",
       "      <td>Concept</td>\n",
       "      <td>1</td>\n",
       "      <td>1</td>\n",
       "      <td>1</td>\n",
       "      <td>1</td>\n",
       "      <td>...</td>\n",
       "      <td>NaN</td>\n",
       "      <td>NaN</td>\n",
       "      <td>0.48</td>\n",
       "      <td>MS</td>\n",
       "      <td>0.36</td>\n",
       "      <td>NK</td>\n",
       "      <td>0.42</td>\n",
       "      <td>0</td>\n",
       "      <td>0</td>\n",
       "      <td>1</td>\n",
       "    </tr>\n",
       "    <tr>\n",
       "      <th>2</th>\n",
       "      <td>KB3</td>\n",
       "      <td>18</td>\n",
       "      <td>Male</td>\n",
       "      <td>11/21/16</td>\n",
       "      <td>11/28/16</td>\n",
       "      <td>Concept</td>\n",
       "      <td>1</td>\n",
       "      <td>1</td>\n",
       "      <td>1</td>\n",
       "      <td>1</td>\n",
       "      <td>...</td>\n",
       "      <td>NaN</td>\n",
       "      <td>NaN</td>\n",
       "      <td>0.08</td>\n",
       "      <td>NK</td>\n",
       "      <td>0.08</td>\n",
       "      <td>MS</td>\n",
       "      <td>0.08</td>\n",
       "      <td>0</td>\n",
       "      <td>0</td>\n",
       "      <td>1</td>\n",
       "    </tr>\n",
       "    <tr>\n",
       "      <th>3</th>\n",
       "      <td>KB4</td>\n",
       "      <td>19</td>\n",
       "      <td>Female</td>\n",
       "      <td>11/21/16</td>\n",
       "      <td>11/28/16</td>\n",
       "      <td>Concept</td>\n",
       "      <td>1</td>\n",
       "      <td>1</td>\n",
       "      <td>1</td>\n",
       "      <td>1</td>\n",
       "      <td>...</td>\n",
       "      <td>NaN</td>\n",
       "      <td>NaN</td>\n",
       "      <td>0.44</td>\n",
       "      <td>MS</td>\n",
       "      <td>0.42</td>\n",
       "      <td>NK</td>\n",
       "      <td>0.43</td>\n",
       "      <td>0</td>\n",
       "      <td>0</td>\n",
       "      <td>1</td>\n",
       "    </tr>\n",
       "    <tr>\n",
       "      <th>4</th>\n",
       "      <td>KB5</td>\n",
       "      <td>19</td>\n",
       "      <td>Female</td>\n",
       "      <td>11/22/16</td>\n",
       "      <td>11/29/16</td>\n",
       "      <td>Concept</td>\n",
       "      <td>1</td>\n",
       "      <td>1</td>\n",
       "      <td>1</td>\n",
       "      <td>1</td>\n",
       "      <td>...</td>\n",
       "      <td>NaN</td>\n",
       "      <td>NaN</td>\n",
       "      <td>0.26</td>\n",
       "      <td>NK</td>\n",
       "      <td>0.28</td>\n",
       "      <td>MS</td>\n",
       "      <td>0.27</td>\n",
       "      <td>0</td>\n",
       "      <td>0</td>\n",
       "      <td>1</td>\n",
       "    </tr>\n",
       "  </tbody>\n",
       "</table>\n",
       "<p>5 rows × 35 columns</p>\n",
       "</div>"
      ],
      "text/plain": [
       "    ID  Age  Gender   Date.P1   Date.P2 Condition  IC.1  IC.2  Comp.1  Comp.2  \\\n",
       "0  KB1   18  Female  11/21/16  11/28/16   Concept     1     1       1       1   \n",
       "1  KB2   18    Male  11/21/16  11/28/16   Concept     1     1       1       1   \n",
       "2  KB3   18    Male  11/21/16  11/28/16   Concept     1     1       1       1   \n",
       "3  KB4   19  Female  11/21/16  11/28/16   Concept     1     1       1       1   \n",
       "4  KB5   19  Female  11/22/16  11/29/16   Concept     1     1       1       1   \n",
       "\n",
       "   ...  Scorer.2.2  R2CS.avg  TS.1 Scorer.1.3  TS.2 Scorer.2.3  TS.avg  Exc.1  \\\n",
       "0  ...         NaN       NaN  0.36         NK  0.42         MS    0.39      0   \n",
       "1  ...         NaN       NaN  0.48         MS  0.36         NK    0.42      0   \n",
       "2  ...         NaN       NaN  0.08         NK  0.08         MS    0.08      0   \n",
       "3  ...         NaN       NaN  0.44         MS  0.42         NK    0.43      0   \n",
       "4  ...         NaN       NaN  0.26         NK  0.28         MS    0.27      0   \n",
       "\n",
       "  Exc.2  Collection  \n",
       "0     0           1  \n",
       "1     0           1  \n",
       "2     0           1  \n",
       "3     0           1  \n",
       "4     0           1  \n",
       "\n",
       "[5 rows x 35 columns]"
      ]
     },
     "execution_count": 1,
     "metadata": {},
     "output_type": "execute_result"
    }
   ],
   "source": [
    "# READ IN THE DATA SET HERE\n",
    "import pandas as pd\n",
    "\n",
    "# Allow for multiple outputs in a cell\n",
    "from IPython.core.interactiveshell import InteractiveShell\n",
    "InteractiveShell.ast_node_interactivity = \"all\"\n",
    "\n",
    "df = pd.read_csv(\"data.csv\")\n",
    "df.head()"
   ]
  },
  {
   "cell_type": "markdown",
   "metadata": {
    "colab_type": "text",
    "id": "dK2K5TkivAlT"
   },
   "source": [
    "# Question 1\n",
    "\n",
    "Which group felt like they learned more: the subjects who made concept maps or the ones who practiced retrieval? (Or are they about the same?) Make an appropriate visualization and explain what you see.\n",
    "\n",
    "_Hint:_ Use the variable `PR.2`, which contains the participants' predictions of how well they would do on a test one week later. "
   ]
  },
  {
   "cell_type": "code",
   "execution_count": 2,
   "metadata": {
    "colab": {},
    "colab_type": "code",
    "id": "IMh2REXUvAlT"
   },
   "outputs": [
    {
     "data": {
      "text/html": [
       "<div>\n",
       "<style scoped>\n",
       "    .dataframe tbody tr th:only-of-type {\n",
       "        vertical-align: middle;\n",
       "    }\n",
       "\n",
       "    .dataframe tbody tr th {\n",
       "        vertical-align: top;\n",
       "    }\n",
       "\n",
       "    .dataframe thead th {\n",
       "        text-align: right;\n",
       "    }\n",
       "</style>\n",
       "<table border=\"1\" class=\"dataframe\">\n",
       "  <thead>\n",
       "    <tr style=\"text-align: right;\">\n",
       "      <th></th>\n",
       "      <th>PR.2</th>\n",
       "    </tr>\n",
       "    <tr>\n",
       "      <th>Condition</th>\n",
       "      <th></th>\n",
       "    </tr>\n",
       "  </thead>\n",
       "  <tbody>\n",
       "    <tr>\n",
       "      <th>Concept</th>\n",
       "      <td>0.690385</td>\n",
       "    </tr>\n",
       "    <tr>\n",
       "      <th>Retrieval</th>\n",
       "      <td>0.576471</td>\n",
       "    </tr>\n",
       "  </tbody>\n",
       "</table>\n",
       "</div>"
      ],
      "text/plain": [
       "               PR.2\n",
       "Condition          \n",
       "Concept    0.690385\n",
       "Retrieval  0.576471"
      ]
     },
     "execution_count": 2,
     "metadata": {},
     "output_type": "execute_result"
    },
    {
     "data": {
      "text/plain": [
       "<AxesSubplot:xlabel='Condition'>"
      ]
     },
     "execution_count": 2,
     "metadata": {},
     "output_type": "execute_result"
    },
    {
     "data": {
      "image/png": "[encoded data removed]",
      "text/plain": [
       "<Figure size 432x288 with 1 Axes>"
      ]
     },
     "metadata": {
      "needs_background": "light"
     },
     "output_type": "display_data"
    }
   ],
   "source": [
    "# df[['Condition', 'PR.2']].head()\n",
    "\n",
    "# Average the PR.2 predictions of each group\n",
    "df_pred = df.pivot_table(values=['PR.2'], index=['Condition'])\n",
    "df_pred\n",
    "df_pred.plot.bar()"
   ]
  },
  {
   "cell_type": "markdown",
   "metadata": {
    "colab_type": "text",
    "id": "TvM6_uHxvAlX"
   },
   "source": [
    "**YOUR EXPLANATION HERE**\n",
    "\n",
    "From the table and graph, we can that on average the participants that made concept maps believed they learned more and would perform better on the second test. "
   ]
  },
  {
   "cell_type": "markdown",
   "metadata": {
    "colab_type": "text",
    "id": "U5hlEgvzvAlY"
   },
   "source": [
    "# Question 2\n",
    "\n",
    "Which group actually did better on the follow-up learning test one week later? Make an appropriate visualization and explain what you see.\n",
    "\n",
    "_Hint:_ Don't ask which variable you should use. That is for you to figure out. Read the codebook carefully (consulting the [original paper](http://science.sciencemag.org/content/331/6018/772), if necessary), make an informed decision, and explain your choice."
   ]
  },
  {
   "cell_type": "code",
   "execution_count": 6,
   "metadata": {
    "colab": {},
    "colab_type": "code",
    "id": "9m-bnR0zvAlY"
   },
   "outputs": [
    {
     "data": {
      "text/html": [
       "<div>\n",
       "<style scoped>\n",
       "    .dataframe tbody tr th:only-of-type {\n",
       "        vertical-align: middle;\n",
       "    }\n",
       "\n",
       "    .dataframe tbody tr th {\n",
       "        vertical-align: top;\n",
       "    }\n",
       "\n",
       "    .dataframe thead th {\n",
       "        text-align: right;\n",
       "    }\n",
       "</style>\n",
       "<table border=\"1\" class=\"dataframe\">\n",
       "  <thead>\n",
       "    <tr style=\"text-align: right;\">\n",
       "      <th></th>\n",
       "      <th>TS.avg</th>\n",
       "    </tr>\n",
       "    <tr>\n",
       "      <th>Condition</th>\n",
       "      <th></th>\n",
       "    </tr>\n",
       "  </thead>\n",
       "  <tbody>\n",
       "    <tr>\n",
       "      <th>Concept</th>\n",
       "      <td>0.468846</td>\n",
       "    </tr>\n",
       "    <tr>\n",
       "      <th>Retrieval</th>\n",
       "      <td>0.616471</td>\n",
       "    </tr>\n",
       "  </tbody>\n",
       "</table>\n",
       "</div>"
      ],
      "text/plain": [
       "             TS.avg\n",
       "Condition          \n",
       "Concept    0.468846\n",
       "Retrieval  0.616471"
      ]
     },
     "execution_count": 6,
     "metadata": {},
     "output_type": "execute_result"
    },
    {
     "data": {
      "text/plain": [
       "<AxesSubplot:xlabel='Condition'>"
      ]
     },
     "execution_count": 6,
     "metadata": {},
     "output_type": "execute_result"
    },
    {
     "data": {
      "image/png": "[encoded data removed]",
      "text/plain": [
       "<Figure size 432x288 with 1 Axes>"
      ]
     },
     "metadata": {
      "needs_background": "light"
     },
     "output_type": "display_data"
    }
   ],
   "source": [
    "# df[['Condition', 'TS.2']]\n",
    "\n",
    "# Calculate the average score on the second test based on condition\n",
    "df_ts2 = df.pivot_table(values=['TS.avg'], index=['Condition'])\n",
    "df_ts2\n",
    "df_ts2.plot.bar()"
   ]
  },
  {
   "cell_type": "markdown",
   "metadata": {
    "colab_type": "text",
    "id": "BPPeUIC2vAlb"
   },
   "source": [
    "**YOUR EXPLANATION HERE**\n",
    "\n",
    "Contrary to the predictions, we can see that on average those that practiced retrieval performed better than those that made concept maps."
   ]
  },
  {
   "cell_type": "markdown",
   "metadata": {
    "colab_type": "text",
    "id": "54XjgjwnvAlb"
   },
   "source": [
    "# Question 3\n",
    "\n",
    "How good were subjects at predicting how well they would do on the follow-up learning test? Calculate a measure of how well subjects predicted their performance and interpret the value in context. (Optionally, you may want to include a visualization as well.)"
   ]
  },
  {
   "cell_type": "code",
   "execution_count": 8,
   "metadata": {
    "colab": {},
    "colab_type": "code",
    "id": "71FljkvqvAlc"
   },
   "outputs": [
    {
     "data": {
      "text/html": [
       "<div>\n",
       "<style scoped>\n",
       "    .dataframe tbody tr th:only-of-type {\n",
       "        vertical-align: middle;\n",
       "    }\n",
       "\n",
       "    .dataframe tbody tr th {\n",
       "        vertical-align: top;\n",
       "    }\n",
       "\n",
       "    .dataframe thead th {\n",
       "        text-align: right;\n",
       "    }\n",
       "</style>\n",
       "<table border=\"1\" class=\"dataframe\">\n",
       "  <thead>\n",
       "    <tr style=\"text-align: right;\">\n",
       "      <th></th>\n",
       "      <th>Condition</th>\n",
       "      <th>PR.2</th>\n",
       "      <th>TS.avg</th>\n",
       "    </tr>\n",
       "  </thead>\n",
       "  <tbody>\n",
       "    <tr>\n",
       "      <th>0</th>\n",
       "      <td>Concept</td>\n",
       "      <td>0.80</td>\n",
       "      <td>0.39</td>\n",
       "    </tr>\n",
       "    <tr>\n",
       "      <th>1</th>\n",
       "      <td>Concept</td>\n",
       "      <td>0.70</td>\n",
       "      <td>0.42</td>\n",
       "    </tr>\n",
       "    <tr>\n",
       "      <th>2</th>\n",
       "      <td>Concept</td>\n",
       "      <td>0.70</td>\n",
       "      <td>0.08</td>\n",
       "    </tr>\n",
       "    <tr>\n",
       "      <th>3</th>\n",
       "      <td>Concept</td>\n",
       "      <td>0.70</td>\n",
       "      <td>0.43</td>\n",
       "    </tr>\n",
       "    <tr>\n",
       "      <th>4</th>\n",
       "      <td>Concept</td>\n",
       "      <td>0.95</td>\n",
       "      <td>0.27</td>\n",
       "    </tr>\n",
       "  </tbody>\n",
       "</table>\n",
       "</div>"
      ],
      "text/plain": [
       "  Condition  PR.2  TS.avg\n",
       "0   Concept  0.80    0.39\n",
       "1   Concept  0.70    0.42\n",
       "2   Concept  0.70    0.08\n",
       "3   Concept  0.70    0.43\n",
       "4   Concept  0.95    0.27"
      ]
     },
     "execution_count": 8,
     "metadata": {},
     "output_type": "execute_result"
    },
    {
     "data": {
      "text/html": [
       "<div>\n",
       "<style scoped>\n",
       "    .dataframe tbody tr th:only-of-type {\n",
       "        vertical-align: middle;\n",
       "    }\n",
       "\n",
       "    .dataframe tbody tr th {\n",
       "        vertical-align: top;\n",
       "    }\n",
       "\n",
       "    .dataframe thead th {\n",
       "        text-align: right;\n",
       "    }\n",
       "</style>\n",
       "<table border=\"1\" class=\"dataframe\">\n",
       "  <thead>\n",
       "    <tr style=\"text-align: right;\">\n",
       "      <th></th>\n",
       "      <th>Condition</th>\n",
       "      <th>PR.2</th>\n",
       "      <th>TS.avg</th>\n",
       "      <th>% Error</th>\n",
       "    </tr>\n",
       "  </thead>\n",
       "  <tbody>\n",
       "    <tr>\n",
       "      <th>0</th>\n",
       "      <td>Concept</td>\n",
       "      <td>0.80</td>\n",
       "      <td>0.39</td>\n",
       "      <td>105.13</td>\n",
       "    </tr>\n",
       "    <tr>\n",
       "      <th>1</th>\n",
       "      <td>Concept</td>\n",
       "      <td>0.70</td>\n",
       "      <td>0.42</td>\n",
       "      <td>66.67</td>\n",
       "    </tr>\n",
       "    <tr>\n",
       "      <th>2</th>\n",
       "      <td>Concept</td>\n",
       "      <td>0.70</td>\n",
       "      <td>0.08</td>\n",
       "      <td>775.00</td>\n",
       "    </tr>\n",
       "    <tr>\n",
       "      <th>3</th>\n",
       "      <td>Concept</td>\n",
       "      <td>0.70</td>\n",
       "      <td>0.43</td>\n",
       "      <td>62.79</td>\n",
       "    </tr>\n",
       "    <tr>\n",
       "      <th>4</th>\n",
       "      <td>Concept</td>\n",
       "      <td>0.95</td>\n",
       "      <td>0.27</td>\n",
       "      <td>251.85</td>\n",
       "    </tr>\n",
       "  </tbody>\n",
       "</table>\n",
       "</div>"
      ],
      "text/plain": [
       "  Condition  PR.2  TS.avg  % Error\n",
       "0   Concept  0.80    0.39   105.13\n",
       "1   Concept  0.70    0.42    66.67\n",
       "2   Concept  0.70    0.08   775.00\n",
       "3   Concept  0.70    0.43    62.79\n",
       "4   Concept  0.95    0.27   251.85"
      ]
     },
     "execution_count": 8,
     "metadata": {},
     "output_type": "execute_result"
    },
    {
     "data": {
      "text/html": [
       "<div>\n",
       "<style scoped>\n",
       "    .dataframe tbody tr th:only-of-type {\n",
       "        vertical-align: middle;\n",
       "    }\n",
       "\n",
       "    .dataframe tbody tr th {\n",
       "        vertical-align: top;\n",
       "    }\n",
       "\n",
       "    .dataframe thead th {\n",
       "        text-align: right;\n",
       "    }\n",
       "</style>\n",
       "<table border=\"1\" class=\"dataframe\">\n",
       "  <thead>\n",
       "    <tr style=\"text-align: right;\">\n",
       "      <th></th>\n",
       "      <th>% Error</th>\n",
       "    </tr>\n",
       "    <tr>\n",
       "      <th>Condition</th>\n",
       "      <th></th>\n",
       "    </tr>\n",
       "  </thead>\n",
       "  <tbody>\n",
       "    <tr>\n",
       "      <th>Concept</th>\n",
       "      <td>100.065385</td>\n",
       "    </tr>\n",
       "    <tr>\n",
       "      <th>Retrieval</th>\n",
       "      <td>34.320588</td>\n",
       "    </tr>\n",
       "  </tbody>\n",
       "</table>\n",
       "</div>"
      ],
      "text/plain": [
       "              % Error\n",
       "Condition            \n",
       "Concept    100.065385\n",
       "Retrieval   34.320588"
      ]
     },
     "execution_count": 8,
     "metadata": {},
     "output_type": "execute_result"
    },
    {
     "data": {
      "text/plain": [
       "<AxesSubplot:xlabel='Condition'>"
      ]
     },
     "execution_count": 8,
     "metadata": {},
     "output_type": "execute_result"
    },
    {
     "data": {
      "image/png": "[encoded data removed]",
      "text/plain": [
       "<Figure size 432x288 with 1 Axes>"
      ]
     },
     "metadata": {
      "needs_background": "light"
     },
     "output_type": "display_data"
    }
   ],
   "source": [
    "df[['Condition', 'PR.2', 'TS.avg']].head()\n",
    "\n",
    "# Calculate percent error of predicted score vs. actual score and store in new column\n",
    "df['% Error'] = round(abs((df['TS.avg'] - df['PR.2']) / df['TS.avg']) * 100, 2)\n",
    "df[['Condition', 'PR.2', 'TS.avg', '% Error']].head()\n",
    "\n",
    "# Average percent error for predictions\n",
    "df_error = df.pivot_table(values=['% Error'], index=['Condition'])\n",
    "df_error\n",
    "df_error.plot.bar()"
   ]
  },
  {
   "cell_type": "markdown",
   "metadata": {
    "colab_type": "text",
    "id": "3EZ15Z6kvAle"
   },
   "source": [
    "**YOUR EXPLANATION HERE**\n",
    "\n",
    "To see how well subjects were able to predict their score, we performed a percent error calculation using their predicted score and actual score, then calculated the average among each group. As a result, we can see that those that practiced retrieval were better at predicting their score since the average percent error is lower."
   ]
  },
  {
   "cell_type": "markdown",
   "metadata": {
    "colab_type": "text",
    "id": "7iD39TKdvAlf"
   },
   "source": [
    "# Question 4\n",
    "\n",
    "This was a completely randomized experiment. This means that the condition that each subject was assigned to should be independent of their gender, age, and any other subject characteristics. Does that seem to be true in this case? Calculate a summary measure and/or make a visualization, and explain what you see."
   ]
  },
  {
   "cell_type": "code",
   "execution_count": 5,
   "metadata": {
    "colab": {},
    "colab_type": "code",
    "id": "nlw6JXpTvAlf"
   },
   "outputs": [
    {
     "data": {
      "text/html": [
       "<div>\n",
       "<style scoped>\n",
       "    .dataframe tbody tr th:only-of-type {\n",
       "        vertical-align: middle;\n",
       "    }\n",
       "\n",
       "    .dataframe tbody tr th {\n",
       "        vertical-align: top;\n",
       "    }\n",
       "\n",
       "    .dataframe thead th {\n",
       "        text-align: right;\n",
       "    }\n",
       "</style>\n",
       "<table border=\"1\" class=\"dataframe\">\n",
       "  <thead>\n",
       "    <tr style=\"text-align: right;\">\n",
       "      <th>Gender</th>\n",
       "      <th>Female</th>\n",
       "      <th>Male</th>\n",
       "    </tr>\n",
       "    <tr>\n",
       "      <th>Condition</th>\n",
       "      <th></th>\n",
       "      <th></th>\n",
       "    </tr>\n",
       "  </thead>\n",
       "  <tbody>\n",
       "    <tr>\n",
       "      <th>Concept</th>\n",
       "      <td>9</td>\n",
       "      <td>17</td>\n",
       "    </tr>\n",
       "    <tr>\n",
       "      <th>Retrieval</th>\n",
       "      <td>12</td>\n",
       "      <td>5</td>\n",
       "    </tr>\n",
       "  </tbody>\n",
       "</table>\n",
       "</div>"
      ],
      "text/plain": [
       "Gender     Female  Male\n",
       "Condition              \n",
       "Concept         9    17\n",
       "Retrieval      12     5"
      ]
     },
     "execution_count": 5,
     "metadata": {},
     "output_type": "execute_result"
    },
    {
     "name": "stdout",
     "output_type": "stream",
     "text": [
      "Null hypothesis: condition and gender are independent\n",
      "chi square value:  3.9811597716009475\n",
      "p value:  0.04601187213054677\n",
      "degree of freedom:  1\n",
      "expected frequencies when condition and gender are independent:  [[12.69767442 13.30232558]\n",
      " [ 8.30232558  8.69767442]]\n",
      "for 1 degree of freedom, the chi-square valued needed to reject the hypothesis at the 0.001 significance level:\n"
     ]
    },
    {
     "data": {
      "text/plain": [
       "10.827566170662733"
      ]
     },
     "execution_count": 5,
     "metadata": {},
     "output_type": "execute_result"
    },
    {
     "name": "stdout",
     "output_type": "stream",
     "text": [
      "==================================================\n"
     ]
    },
    {
     "data": {
      "text/html": [
       "<div>\n",
       "<style scoped>\n",
       "    .dataframe tbody tr th:only-of-type {\n",
       "        vertical-align: middle;\n",
       "    }\n",
       "\n",
       "    .dataframe tbody tr th {\n",
       "        vertical-align: top;\n",
       "    }\n",
       "\n",
       "    .dataframe thead th {\n",
       "        text-align: right;\n",
       "    }\n",
       "</style>\n",
       "<table border=\"1\" class=\"dataframe\">\n",
       "  <thead>\n",
       "    <tr style=\"text-align: right;\">\n",
       "      <th>Age</th>\n",
       "      <th>17</th>\n",
       "      <th>18</th>\n",
       "      <th>19</th>\n",
       "      <th>20</th>\n",
       "      <th>21</th>\n",
       "      <th>22</th>\n",
       "    </tr>\n",
       "    <tr>\n",
       "      <th>Condition</th>\n",
       "      <th></th>\n",
       "      <th></th>\n",
       "      <th></th>\n",
       "      <th></th>\n",
       "      <th></th>\n",
       "      <th></th>\n",
       "    </tr>\n",
       "  </thead>\n",
       "  <tbody>\n",
       "    <tr>\n",
       "      <th>Concept</th>\n",
       "      <td>0</td>\n",
       "      <td>11</td>\n",
       "      <td>8</td>\n",
       "      <td>5</td>\n",
       "      <td>2</td>\n",
       "      <td>0</td>\n",
       "    </tr>\n",
       "    <tr>\n",
       "      <th>Retrieval</th>\n",
       "      <td>1</td>\n",
       "      <td>3</td>\n",
       "      <td>6</td>\n",
       "      <td>4</td>\n",
       "      <td>2</td>\n",
       "      <td>1</td>\n",
       "    </tr>\n",
       "  </tbody>\n",
       "</table>\n",
       "</div>"
      ],
      "text/plain": [
       "Age        17  18  19  20  21  22\n",
       "Condition                        \n",
       "Concept     0  11   8   5   2   0\n",
       "Retrieval   1   3   6   4   2   1"
      ]
     },
     "execution_count": 5,
     "metadata": {},
     "output_type": "execute_result"
    },
    {
     "name": "stdout",
     "output_type": "stream",
     "text": [
      "Null hypothesis: condition and age are independent\n",
      "chi square value:  5.317478273360626\n",
      "p value:  0.37837518738653036\n",
      "degree of freedom:  5\n",
      "expected frequencies when condition and age are independent:  [[0.60465116 8.46511628 8.46511628 5.44186047 2.41860465 0.60465116]\n",
      " [0.39534884 5.53488372 5.53488372 3.55813953 1.58139535 0.39534884]]\n",
      "for 5 degrees of freedom, the chi-square valued needed to reject the hypothesis at the 0.001 significance level:\n"
     ]
    },
    {
     "data": {
      "text/plain": [
       "20.515005652432873"
      ]
     },
     "execution_count": 5,
     "metadata": {},
     "output_type": "execute_result"
    }
   ],
   "source": [
    "from scipy.stats import chi2_contingency\n",
    "from scipy.stats import chi2\n",
    "\n",
    "cond_gender = pd.crosstab(df['Condition'], df['Gender'])\n",
    "cond_gender\n",
    "chi, p, dfree, expected = chi2_contingency(cond_gender)\n",
    "print(\"Null hypothesis: condition and gender are independent\")\n",
    "print(\"chi square value: \" ,chi)\n",
    "print(\"p value: \", p)\n",
    "print(\"degree of freedom: \", dfree)\n",
    "print(\"expected frequencies when condition and gender are independent: \", expected)\n",
    "print(\"for 1 degree of freedom, the chi-square valued needed to reject the hypothesis at the 0.001 significance level:\")\n",
    "chi2.ppf(0.999, 1)\n",
    "\n",
    "print('==================================================')\n",
    "\n",
    "cond_age = pd.crosstab(df['Condition'], df['Age'])\n",
    "cond_age\n",
    "chi, p, dfree, expected = chi2_contingency(cond_age)\n",
    "print(\"Null hypothesis: condition and age are independent\")\n",
    "print(\"chi square value: \" ,chi)\n",
    "print(\"p value: \", p)\n",
    "print(\"degree of freedom: \", dfree)\n",
    "print(\"expected frequencies when condition and age are independent: \", expected)\n",
    "print(\"for 5 degrees of freedom, the chi-square valued needed to reject the hypothesis at the 0.001 significance level:\")\n",
    "chi2.ppf(0.999, 5)"
   ]
  },
  {
   "cell_type": "markdown",
   "metadata": {
    "colab_type": "text",
    "id": "NVxo0YzpvAlm"
   },
   "source": [
    "**YOUR EXPLANATION HERE**\n",
    "\n",
    "Since the chi square values of both tests are less than their respective significance values we cannot reject the null hypotheses. Note: this does not mean we accept it, just that we cannot reject it. \n",
    "\n",
    "In the context of this problem, this means that there is not information to tell if the condition that each subject was assigned to was independent of their gender and age."
   ]
  },
  {
   "cell_type": "markdown",
   "metadata": {
    "colab_type": "text",
    "id": "eJ67dulfvAlm"
   },
   "source": [
    "# Submission Instructions\n",
    "\n",
    "Once you are finished, follow these steps:\n",
    "\n",
    "1. Restart the kernel and re-run this notebook from beginning to end by going to `Kernel > Restart Kernel and Run All Cells`.\n",
    "2. If this process stops halfway through, that means there was an error. Correct the error and repeat Step 1 until the notebook runs from beginning to end.\n",
    "3. Double check that there is a number next to each code cell and that these numbers are in order.\n",
    "\n",
    "Then, submit your lab as follows:\n",
    "\n",
    "1. Go to `File > Export Notebook As > PDF`.\n",
    "2. Double check that the entire notebook, from beginning to end, is in this PDF file. (If the notebook is cut off, try first exporting the notebook to HTML and printing to PDF.)\n",
    "3. Upload the PDF to Gradescope and Notebook (ipynb) to iLearn."
   ]
  }
 ],
 "metadata": {
  "colab": {
   "name": "3C. Retrieval Practice and Learning.ipynb",
   "provenance": []
  },
  "kernelspec": {
   "display_name": "Python 3 (ipykernel)",
   "language": "python",
   "name": "python3"
  },
  "language_info": {
   "codemirror_mode": {
    "name": "ipython",
    "version": 3
   },
   "file_extension": ".py",
   "mimetype": "text/x-python",
   "name": "python",
   "nbconvert_exporter": "python",
   "pygments_lexer": "ipython3",
   "version": "3.9.7"
  }
 },
 "nbformat": 4,
 "nbformat_minor": 4
}
